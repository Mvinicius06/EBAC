{
  "nbformat": 4,
  "nbformat_minor": 0,
  "metadata": {
    "colab": {
      "provenance": []
    },
    "kernelspec": {
      "name": "python3",
      "display_name": "Python 3"
    }
  },
  "cells": [
    {
      "cell_type": "markdown",
      "metadata": {
        "id": "KJqp9AANOCtf"
      },
      "source": [
        "<img src=\"https://raw.githubusercontent.com/andre-marcos-perez/ebac-course-utils/main/media/logo/newebac_logo_black_half.png\" alt=\"ebac-logo\">\n",
        "\n",
        "---\n",
        "\n",
        "# **Módulo** | Análise de Dados: Controle de Versão II\n",
        "Caderno de **Exercícios**<br> \n",
        "Professor [André Perez](https://www.linkedin.com/in/andremarcosperez/)\n",
        "\n",
        "---"
      ]
    },
    {
      "cell_type": "markdown",
      "metadata": {
        "id": "d9jDtUbDOE1-"
      },
      "source": [
        "# **Tópicos**\n",
        "\n",
        "<ol type=\"1\">\n",
        "  <li>Adicionar e salvar;</li>\n",
        "  <li>Visualizar e reverter;</li>\n",
        "  <li>Persistir e atualizar.</li>\n",
        "</ol>"
      ]
    },
    {
      "cell_type": "markdown",
      "metadata": {
        "id": "SmoHgt-lwkpD"
      },
      "source": [
        "---"
      ]
    },
    {
      "cell_type": "markdown",
      "metadata": {
        "id": "GABI6OW8OfQ2"
      },
      "source": [
        "# **Exercícios**"
      ]
    },
    {
      "cell_type": "markdown",
      "metadata": {
        "id": "kzRDceCvkFj2"
      },
      "source": [
        "## 1\\. Setup"
      ]
    },
    {
      "cell_type": "markdown",
      "metadata": {
        "id": "WCQi-s0Hpd5V"
      },
      "source": [
        "Para realizar os exercicios vamos configurar o `git` e trazer o projeto do GitHub para a a máquina virtual do Google Colab (ou na sua máquina local, as instruções são as mesmas). Para tanto, replique as atividades expostas na aula 1 deste módulo. "
      ]
    },
    {
      "cell_type": "markdown",
      "metadata": {
        "id": "HrTLgE0tki6P"
      },
      "source": [
        "### **1.1. Autenticação** "
      ]
    },
    {
      "cell_type": "markdown",
      "metadata": {
        "id": "7tIjNOs8q6aZ"
      },
      "source": [
        "Nesta etapa, vamos configura o `git` com suas credenciais."
      ]
    },
    {
      "cell_type": "code",
      "metadata": {
        "id": "IwTTh4VKkdKN"
      },
      "source": [
        "import os\n",
        "\n",
        "username = \"<seu-usuario-git>\" # insira o seu nome de usuário do git\n",
        "os.environ[\"GITHUB_USER\"] = username\n",
        "\n",
        "!git config --global user.name \"${GITHUB_USER}\""
      ],
      "execution_count": 1,
      "outputs": []
    },
    {
      "cell_type": "code",
      "metadata": {
        "id": "8gt4Y28skdKO",
        "colab": {
          "base_uri": "https://localhost:8080/"
        },
        "outputId": "ed1cac44-c357-4d98-f5f5-29e54f17d89f"
      },
      "source": [
        "import os\n",
        "from getpass import getpass\n",
        "\n",
        "usermail = getpass()\n",
        "os.environ[\"GITHUB_MAIL\"] = usermail\n",
        "\n",
        "!git config --global user.email \"${GITHUB_MAIL}\""
      ],
      "execution_count": 2,
      "outputs": [
        {
          "name": "stdout",
          "output_type": "stream",
          "text": [
            "··········\n"
          ]
        }
      ]
    },
    {
      "cell_type": "code",
      "metadata": {
        "id": "BS6vMNnCkdKO"
      },
      "source": [
        "import os\n",
        "from getpass import getpass\n",
        "\n",
        "usertoken = getpass()\n",
        "os.environ[\"GITHUB_TOKEN\"] = usertoken"
      ],
      "execution_count": null,
      "outputs": []
    },
    {
      "cell_type": "markdown",
      "metadata": {
        "id": "TTh7w8rgkznY"
      },
      "source": [
        "### **1.2. Projeto** "
      ]
    },
    {
      "cell_type": "markdown",
      "metadata": {
        "id": "clBerimQs2PY"
      },
      "source": [
        "Nesta etapa, vamos trazer o projeto do GitHub para máquina local."
      ]
    },
    {
      "cell_type": "code",
      "metadata": {
        "id": "fohdVuLzkdKP"
      },
      "source": [
        "!git clone <https://github.com/Mvinicius06/EBAC.git> # insira o link do seu repositório remoto"
      ],
      "execution_count": null,
      "outputs": []
    },
    {
      "cell_type": "code",
      "metadata": {
        "id": "5-FAaAQXkdKP"
      },
      "source": [
        "%cd /content/<EBAC>/ # insira o nome do seu repositório"
      ],
      "execution_count": null,
      "outputs": []
    },
    {
      "cell_type": "markdown",
      "metadata": {
        "id": "waxn4B2UDHyl"
      },
      "source": [
        "---"
      ]
    },
    {
      "cell_type": "markdown",
      "metadata": {
        "id": "finLQoyyGVmk"
      },
      "source": [
        "## 2\\. Preço da gasolina"
      ]
    },
    {
      "cell_type": "markdown",
      "metadata": {
        "id": "7dJne-O92n2v"
      },
      "source": [
        "O código abaixo gera um arquivo com o preço médio de venda da gasolina na cidade de São Paulo nos 10 primeiros dias de Julho de 2021."
      ]
    },
    {
      "cell_type": "code",
      "metadata": {
        "id": "Uhvy1LG31n1A"
      },
      "source": [
        "%%writefile gasolina.csv\n",
        "dia,venda\n",
        "1,5.11\n",
        "2,4.99\n",
        "3,5.02\n",
        "4,5.21\n",
        "5,5.07\n",
        "6,5.09\n",
        "7,5.13\n",
        "8,5.12\n",
        "9,4.94\n",
        "10,5.03"
      ],
      "execution_count": null,
      "outputs": []
    },
    {
      "cell_type": "markdown",
      "metadata": {
        "id": "eun0qdii21WO"
      },
      "source": [
        "### **2.1. Desenvolvimento** "
      ]
    },
    {
      "cell_type": "markdown",
      "metadata": {
        "id": "5MiknLIh2460"
      },
      "source": [
        "Gere uma gráfico de linha utilizando os dados do arquivo `gasolina.csv` com o dia no eixo `x`\n",
        " e o seu preço no eixo `y` utilizando os pacotes Python de sua preferência, como o Pandas e o Seaborn. Salve o gráfico no arquivo `gasolina.png` e o seu código Python de geração no arquivo `gasolina.py`."
      ]
    },
    {
      "cell_type": "code",
      "metadata": {
        "id": "PPzewPcD3Z8n"
      },
      "source": [
        "# código de geração do gráfico \n",
        "\n",
        "import panda as pd\n",
        "import seaborn as sns\n",
        "\n",
        "gasolina = data[[\"dia\", \"preço\"]]\n",
        "\n",
        "\n",
        "with sns.axes_style('whitegrid'):\n",
        "\n",
        "  grafico = sns.histplot(data=gasolina, x=\"dia\")\n",
        "  grafico.set(title='Preços da gasolina por dia', xlabel='dia', ylabel='preço');\n",
        "  # duvida na forma de salvar \n",
        "\n"
      ],
      "execution_count": null,
      "outputs": []
    },
    {
      "cell_type": "markdown",
      "metadata": {
        "id": "T51dv46X3YoT"
      },
      "source": [
        "### **2.2. Git** "
      ]
    },
    {
      "cell_type": "markdown",
      "metadata": {
        "id": "iyb6rFFX3YoU"
      },
      "source": [
        "Utilizando os comandos do `git`, adicione e \"commite\" os arquivos gerados (base, código Python e gráfico)."
      ]
    },
    {
      "cell_type": "code",
      "metadata": {
        "id": "tRAunRfR4RfG"
      },
      "source": [
        "# comandos git para adicionar e commitar os arquivos\n",
        "!git status"
      ],
      "execution_count": null,
      "outputs": []
    },
    {
      "cell_type": "code",
      "source": [
        "!git add EBAC"
      ],
      "metadata": {
        "id": "rcgC2WKkeN7A"
      },
      "execution_count": null,
      "outputs": []
    },
    {
      "cell_type": "code",
      "source": [
        "!git status"
      ],
      "metadata": {
        "id": "N90_f9RbeVRk"
      },
      "execution_count": null,
      "outputs": []
    },
    {
      "cell_type": "code",
      "source": [
        "!git add hello.py"
      ],
      "metadata": {
        "id": "66Xz1V8xeVHU"
      },
      "execution_count": null,
      "outputs": []
    },
    {
      "cell_type": "code",
      "source": [
        "!git status"
      ],
      "metadata": {
        "id": "_8-YCY_qeU6k"
      },
      "execution_count": null,
      "outputs": []
    },
    {
      "cell_type": "markdown",
      "metadata": {
        "id": "ozAPHQJu4P00"
      },
      "source": [
        "### **2.3. Github** "
      ]
    },
    {
      "cell_type": "markdown",
      "metadata": {
        "id": "2JkFXRdW4P01"
      },
      "source": [
        "Utilizando os comandos do `git`, envie o seu commit para o GitHub."
      ]
    },
    {
      "cell_type": "code",
      "metadata": {
        "id": "xEKWMYH75FfC"
      },
      "source": [
        "# comandos git para enviar o commit para o GitHub\n",
        "!git status"
      ],
      "execution_count": null,
      "outputs": []
    },
    {
      "cell_type": "code",
      "source": [
        "!git push origin main"
      ],
      "metadata": {
        "id": "6V-eaW8le51C"
      },
      "execution_count": null,
      "outputs": []
    },
    {
      "cell_type": "code",
      "source": [
        "!git status"
      ],
      "metadata": {
        "id": "Q_ZW3y0Fe7bM"
      },
      "execution_count": null,
      "outputs": []
    },
    {
      "cell_type": "markdown",
      "metadata": {
        "id": "As3enQc2GVm1"
      },
      "source": [
        "---"
      ]
    },
    {
      "cell_type": "markdown",
      "metadata": {
        "id": "GWgNoJN8DHyY"
      },
      "source": [
        "## 3\\. Arquivo README.md"
      ]
    },
    {
      "cell_type": "markdown",
      "metadata": {
        "id": "fLGLUjR_bS36"
      },
      "source": [
        "O arquivo README.md é a porta de entrada do seu projeto, é ele que será renderizado quando o seu projeto for acessado, portanto, é importante que ele esteja bem escrito. Alguns exemplos:"
      ]
    },
    {
      "cell_type": "markdown",
      "metadata": {
        "id": "KCHdysuQuaFm"
      },
      "source": [
        " - [Pandas](https://github.com/pandas-dev/pandas);\n",
        " - [Seaborn](https://github.com/mwaskom/seaborn);\n",
        " - [Spark Cluster on Docker](https://github.com/cluster-apps-on-docker/spark-standalone-cluster-on-docker), esse projeto é meu! :)"
      ]
    },
    {
      "cell_type": "markdown",
      "metadata": {
        "id": "b38h7VzCazcD"
      },
      "source": [
        "### **3.1. Desenvolvimento** "
      ]
    },
    {
      "cell_type": "markdown",
      "metadata": {
        "id": "8IqWwI7KSCf7"
      },
      "source": [
        "Altere o arquivo README.md com informações sobre seu repositório, inclua um título e uma breve descrição do repositório (no mínimo)."
      ]
    },
    {
      "cell_type": "markdown",
      "metadata": {
        "id": "jHmAgsI2vmXk"
      },
      "source": [
        "> **Dica**: o README.md pode ser configurado utilizando o padrão **markdown**, o mesmo que utilizamos nas células de texto aqui no Google Colab."
      ]
    },
    {
      "cell_type": "markdown",
      "metadata": {
        "id": "C5hnW9-Oa5cI"
      },
      "source": [
        "### **3.2. Git** "
      ]
    },
    {
      "cell_type": "markdown",
      "metadata": {
        "id": "DwPGVASH4vuX"
      },
      "source": [
        "Utilizando os comandos do `git`, adicione e \"commite\" as alterações no arquivo `README.md`."
      ]
    },
    {
      "cell_type": "code",
      "metadata": {
        "id": "LJDWXMQt4vuX"
      },
      "source": [
        "# comandos git para adicionar e commitar os arquivos\n",
        "!git status"
      ],
      "execution_count": null,
      "outputs": []
    },
    {
      "cell_type": "code",
      "source": [
        "!git add README.md"
      ],
      "metadata": {
        "id": "wbPBKcKrfWHu"
      },
      "execution_count": null,
      "outputs": []
    },
    {
      "cell_type": "code",
      "source": [
        "!git status"
      ],
      "metadata": {
        "id": "jv2COlDefV6E"
      },
      "execution_count": null,
      "outputs": []
    },
    {
      "cell_type": "code",
      "source": [
        "!git add README.md"
      ],
      "metadata": {
        "id": "6H0RwPOlfVr2"
      },
      "execution_count": null,
      "outputs": []
    },
    {
      "cell_type": "code",
      "source": [
        "!git status"
      ],
      "metadata": {
        "id": "oLyeke5YfVjG"
      },
      "execution_count": null,
      "outputs": []
    },
    {
      "cell_type": "markdown",
      "metadata": {
        "id": "NUnnxhfq49Md"
      },
      "source": [
        "### **3.3. Github** "
      ]
    },
    {
      "cell_type": "markdown",
      "metadata": {
        "id": "Kn7bwyDi49Md"
      },
      "source": [
        "Utilizando os comandos do `git`, envie o seu commit para o GitHub."
      ]
    },
    {
      "cell_type": "code",
      "metadata": {
        "id": "4h4FKhlq5KJJ"
      },
      "source": [
        "# comandos git para enviar o commit para o GitHub\n",
        "!git status"
      ],
      "execution_count": null,
      "outputs": []
    },
    {
      "cell_type": "code",
      "source": [
        "!git pull"
      ],
      "metadata": {
        "id": "uLjQrDzFftTR"
      },
      "execution_count": null,
      "outputs": []
    },
    {
      "cell_type": "code",
      "source": [
        "!git status"
      ],
      "metadata": {
        "id": "zewIVRcjftsl"
      },
      "execution_count": null,
      "outputs": []
    }
  ]
}